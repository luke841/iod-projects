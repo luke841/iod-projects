{
 "cells": [
  {
   "cell_type": "code",
   "execution_count": 3,
   "id": "c4e5ee5d-f44f-41bf-bf41-11433bb0f4ca",
   "metadata": {},
   "outputs": [
    {
     "name": "stdout",
     "output_type": "stream",
     "text": [
      "Looking in indexes: https://pypi.org/simple, https://pypi.ngc.nvidia.com\n",
      "Requirement already satisfied: pymongo in ./venv/lib/python3.9/site-packages (4.4.1)\n",
      "Requirement already satisfied: dnspython<3.0.0,>=1.16.0 in ./venv/lib/python3.9/site-packages (from pymongo) (2.4.1)\n",
      "\n",
      "\u001b[1m[\u001b[0m\u001b[34;49mnotice\u001b[0m\u001b[1;39;49m]\u001b[0m\u001b[39;49m A new release of pip is available: \u001b[0m\u001b[31;49m23.1.2\u001b[0m\u001b[39;49m -> \u001b[0m\u001b[32;49m23.2.1\u001b[0m\n",
      "\u001b[1m[\u001b[0m\u001b[34;49mnotice\u001b[0m\u001b[1;39;49m]\u001b[0m\u001b[39;49m To update, run: \u001b[0m\u001b[32;49mpip install --upgrade pip\u001b[0m\n"
     ]
    }
   ],
   "source": [
    "!pip install pymongo"
   ]
  },
  {
   "cell_type": "code",
   "execution_count": 4,
   "id": "7b54420c-d836-4981-a1fc-23b50279f8bc",
   "metadata": {},
   "outputs": [],
   "source": [
    "import pymongo"
   ]
  },
  {
   "cell_type": "code",
   "execution_count": 5,
   "id": "ec604a1a-69f1-4b1c-9f77-96b23cc53b70",
   "metadata": {},
   "outputs": [],
   "source": [
    "mongo_client = pymongo.MongoClient(\n",
    "    host=\"localhost\",\n",
    "    port=27017,\n",
    ")"
   ]
  },
  {
   "cell_type": "code",
   "execution_count": 6,
   "id": "e23733ef-fc26-40c4-a6ef-656c09668dca",
   "metadata": {},
   "outputs": [],
   "source": [
    "users_database = mongo_client.database\n",
    "users_collection = users_database.users"
   ]
  },
  {
   "cell_type": "code",
   "execution_count": 7,
   "id": "74a70de8-7bb2-478b-a0ad-4b61e86aca6d",
   "metadata": {},
   "outputs": [
    {
     "data": {
      "text/plain": [
       "Database(MongoClient(host=['localhost:27017'], document_class=dict, tz_aware=False, connect=True), 'database')"
      ]
     },
     "execution_count": 7,
     "metadata": {},
     "output_type": "execute_result"
    }
   ],
   "source": [
    "users_database"
   ]
  },
  {
   "cell_type": "code",
   "execution_count": 8,
   "id": "96fdf84b-c26f-484e-b8f0-a8d848bc48eb",
   "metadata": {},
   "outputs": [
    {
     "data": {
      "text/plain": [
       "Collection(Database(MongoClient(host=['localhost:27017'], document_class=dict, tz_aware=False, connect=True), 'database'), 'users')"
      ]
     },
     "execution_count": 8,
     "metadata": {},
     "output_type": "execute_result"
    }
   ],
   "source": [
    "users_collection"
   ]
  },
  {
   "cell_type": "code",
   "execution_count": 9,
   "id": "353b96d7-2f02-46c6-a527-7493e1445b2a",
   "metadata": {},
   "outputs": [],
   "source": [
    "users = [\n",
    "    dict(\n",
    "        name=\"luke\",\n",
    "        age=29,\n",
    "    ),\n",
    "    dict(\n",
    "        name=\"sam\",\n",
    "        age=35,\n",
    "    )\n",
    "    \n",
    "]"
   ]
  },
  {
   "cell_type": "markdown",
   "id": "92cfd53b-1431-46c5-a2ba-afdbf76dd685",
   "metadata": {},
   "source": [
    "# Create"
   ]
  },
  {
   "cell_type": "code",
   "execution_count": 26,
   "id": "c0b9bf6e-add1-4879-b69b-ac86a0d4cb49",
   "metadata": {},
   "outputs": [
    {
     "data": {
      "text/plain": [
       "<pymongo.results.InsertOneResult at 0x1079b0d60>"
      ]
     },
     "execution_count": 26,
     "metadata": {},
     "output_type": "execute_result"
    }
   ],
   "source": [
    "# Multi\n",
    "users_collection.insert_many(users)\n",
    "\n",
    "# Single \n",
    "users_collection.insert_one({\"name\": \"matt\", \"age\": 40})"
   ]
  },
  {
   "cell_type": "markdown",
   "id": "1a284eea-0b96-4e34-932c-32bc8c219892",
   "metadata": {},
   "source": [
    "# Read"
   ]
  },
  {
   "cell_type": "code",
   "execution_count": 27,
   "id": "a4199519-b073-4e57-97ff-ad06545df3a8",
   "metadata": {},
   "outputs": [
    {
     "data": {
      "text/plain": [
       "[{'_id': ObjectId('64d4dda91dc02c2bdc22fe38'), 'name': 'luke', 'age': 29},\n",
       " {'_id': ObjectId('64d4dda91dc02c2bdc22fe39'), 'name': 'sam', 'age': 35},\n",
       " {'_id': ObjectId('64d4ddbe1dc02c2bdc22fe3b'), 'name': 'matt', 'age': 40}]"
      ]
     },
     "execution_count": 27,
     "metadata": {},
     "output_type": "execute_result"
    }
   ],
   "source": [
    "list(users_collection.find())"
   ]
  },
  {
   "cell_type": "code",
   "execution_count": 28,
   "id": "4eb1c6c1-bbf0-4822-9871-56c82c164349",
   "metadata": {},
   "outputs": [
    {
     "data": {
      "text/plain": [
       "[{'_id': ObjectId('64d4dda91dc02c2bdc22fe38'), 'name': 'luke', 'age': 29}]"
      ]
     },
     "execution_count": 28,
     "metadata": {},
     "output_type": "execute_result"
    }
   ],
   "source": [
    "# Based on a key value\n",
    "list(users_collection.find({\"name\": \"luke\"}))"
   ]
  },
  {
   "cell_type": "code",
   "execution_count": 29,
   "id": "128a487f-bcc7-4c3d-99b9-c2a27091113e",
   "metadata": {},
   "outputs": [
    {
     "data": {
      "text/plain": [
       "[{'_id': ObjectId('64d4dda91dc02c2bdc22fe39'), 'name': 'sam', 'age': 35},\n",
       " {'_id': ObjectId('64d4ddbe1dc02c2bdc22fe3b'), 'name': 'matt', 'age': 40}]"
      ]
     },
     "execution_count": 29,
     "metadata": {},
     "output_type": "execute_result"
    }
   ],
   "source": [
    "# Based on a query\n",
    "list(users_collection.find({\"age\": {\"$gt\": 30}}))"
   ]
  },
  {
   "cell_type": "code",
   "execution_count": 30,
   "id": "ca3de573-2f39-42c8-b9ee-f17287971d66",
   "metadata": {},
   "outputs": [
    {
     "data": {
      "text/plain": [
       "[{'_id': ObjectId('64d4dda91dc02c2bdc22fe38'), 'name': 'luke', 'age': 29}]"
      ]
     },
     "execution_count": 30,
     "metadata": {},
     "output_type": "execute_result"
    }
   ],
   "source": [
    "# Row Query Greater than\n",
    "list(users_collection.find({\"age\": {\"$lt\": 30}}))"
   ]
  },
  {
   "cell_type": "code",
   "execution_count": 31,
   "id": "290638d5-8155-439b-8b9b-33c37e53121b",
   "metadata": {},
   "outputs": [
    {
     "data": {
      "text/plain": [
       "[{'_id': ObjectId('64d4dda91dc02c2bdc22fe38'), 'name': 'luke'},\n",
       " {'_id': ObjectId('64d4dda91dc02c2bdc22fe39'), 'name': 'sam'},\n",
       " {'_id': ObjectId('64d4ddbe1dc02c2bdc22fe3b'), 'name': 'matt'}]"
      ]
     },
     "execution_count": 31,
     "metadata": {},
     "output_type": "execute_result"
    }
   ],
   "source": [
    "# Return query for keys\n",
    "list(users_collection.find({}, {\"name\"}))"
   ]
  },
  {
   "cell_type": "code",
   "execution_count": 32,
   "id": "f310c6c1-01b8-485d-b50f-b0e00068939f",
   "metadata": {},
   "outputs": [
    {
     "data": {
      "text/plain": [
       "[{'_id': ObjectId('64d4dda91dc02c2bdc22fe38'), 'name': 'luke'}]"
      ]
     },
     "execution_count": 32,
     "metadata": {},
     "output_type": "execute_result"
    }
   ],
   "source": [
    "# Query rows, then filter for columns\n",
    "list(users_collection.find({\"age\": {\"$lt\": 30}}, {\"name\"}))"
   ]
  },
  {
   "cell_type": "markdown",
   "id": "3f6b0bb3-eccf-4501-848a-d186952f1480",
   "metadata": {},
   "source": [
    "# Update"
   ]
  },
  {
   "cell_type": "code",
   "execution_count": 33,
   "id": "c1e71d4c-6c62-4884-a3ca-c43b6079f27b",
   "metadata": {},
   "outputs": [
    {
     "data": {
      "text/plain": [
       "<pymongo.results.UpdateResult at 0x1076b8d60>"
      ]
     },
     "execution_count": 33,
     "metadata": {},
     "output_type": "execute_result"
    }
   ],
   "source": [
    "# Increment age by 1\n",
    "users_collection.update_one({\"name\": \"luke\"}, {'$inc': {'age': 1}})"
   ]
  },
  {
   "cell_type": "code",
   "execution_count": 34,
   "id": "62148c93-1005-4a39-8a62-b7303088080e",
   "metadata": {},
   "outputs": [
    {
     "data": {
      "text/plain": [
       "[{'_id': ObjectId('64d4dda91dc02c2bdc22fe38'), 'name': 'luke', 'age': 30}]"
      ]
     },
     "execution_count": 34,
     "metadata": {},
     "output_type": "execute_result"
    }
   ],
   "source": [
    "list(users_collection.find({\"name\": \"luke\"}))"
   ]
  },
  {
   "cell_type": "markdown",
   "id": "12446fd9-128b-40d1-8e4d-f06b0f7e6721",
   "metadata": {},
   "source": [
    "### Delete"
   ]
  },
  {
   "cell_type": "code",
   "execution_count": 19,
   "id": "702a9101-d68b-4aa6-aa8b-ea3bcea63b1f",
   "metadata": {},
   "outputs": [
    {
     "data": {
      "text/plain": [
       "[{'_id': ObjectId('64d4dda91dc02c2bdc22fe38'), 'name': 'luke', 'age': 30},\n",
       " {'_id': ObjectId('64d4dda91dc02c2bdc22fe39'), 'name': 'sam', 'age': 35},\n",
       " {'_id': ObjectId('64d4dda91dc02c2bdc22fe3a'), 'name': 'matt', 'age': 40}]"
      ]
     },
     "execution_count": 19,
     "metadata": {},
     "output_type": "execute_result"
    }
   ],
   "source": [
    "list(users_collection.find({}))"
   ]
  },
  {
   "cell_type": "code",
   "execution_count": 20,
   "id": "1e9e52e2-cbc4-49b7-9a74-7520fd785872",
   "metadata": {},
   "outputs": [
    {
     "name": "stdout",
     "output_type": "stream",
     "text": [
      "[{'_id': ObjectId('64d4dda91dc02c2bdc22fe38'), 'name': 'luke', 'age': 30}, {'_id': ObjectId('64d4dda91dc02c2bdc22fe39'), 'name': 'sam', 'age': 35}, {'_id': ObjectId('64d4dda91dc02c2bdc22fe3a'), 'name': 'matt', 'age': 40}] \n",
      "\n",
      "[{'_id': ObjectId('64d4dda91dc02c2bdc22fe38'), 'name': 'luke', 'age': 30}, {'_id': ObjectId('64d4dda91dc02c2bdc22fe3a'), 'name': 'matt', 'age': 40}]\n"
     ]
    }
   ],
   "source": [
    "print(list(users_collection.find({})), \"\\n\")\n",
    "users_collection.delete_one({\"name\": \"sam\"})\n",
    "print(list(users_collection.find({})))"
   ]
  },
  {
   "cell_type": "markdown",
   "id": "8cf40cec-31a9-4025-bb04-1ff4b6fe2c85",
   "metadata": {},
   "source": [
    "### Delete all documents"
   ]
  },
  {
   "cell_type": "code",
   "execution_count": 25,
   "id": "685729b5-b366-4abc-a1a4-f6cede616e3a",
   "metadata": {},
   "outputs": [],
   "source": [
    "# print(list(users_collection.find({})), \"\\n\")\n",
    "# users_collection.delete_many({})\n",
    "# print(list(users_collection.find({})))"
   ]
  },
  {
   "cell_type": "code",
   "execution_count": 40,
   "id": "e37f1b97-a4ac-4621-bdb0-21b967667bf2",
   "metadata": {},
   "outputs": [
    {
     "ename": "SyntaxError",
     "evalue": "invalid syntax (2433460784.py, line 1)",
     "output_type": "error",
     "traceback": [
      "\u001b[0;36m  Cell \u001b[0;32mIn[40], line 1\u001b[0;36m\u001b[0m\n\u001b[0;31m    list(.sort([(\"name\", 1), (\"age\", 0)]))\u001b[0m\n\u001b[0m         ^\u001b[0m\n\u001b[0;31mSyntaxError\u001b[0m\u001b[0;31m:\u001b[0m invalid syntax\n"
     ]
    }
   ],
   "source": [
    "list(.sort([(\"name\", 1), (\"age\", 0)]))"
   ]
  },
  {
   "cell_type": "code",
   "execution_count": 41,
   "id": "496d5993-6c5c-450e-b61e-d32c4303f526",
   "metadata": {},
   "outputs": [],
   "source": [
    "x = "
   ]
  },
  {
   "cell_type": "code",
   "execution_count": 46,
   "id": "0ef8536c-e75f-4252-9f3e-6413769cc291",
   "metadata": {},
   "outputs": [
    {
     "data": {
      "text/plain": [
       "[{'_id': ObjectId('64d4dda91dc02c2bdc22fe38'), 'name': 'luke', 'age': 30},\n",
       " {'_id': ObjectId('64d4ddbe1dc02c2bdc22fe3b'), 'name': 'matt', 'age': 40},\n",
       " {'_id': ObjectId('64d4dda91dc02c2bdc22fe39'), 'name': 'sam', 'age': 35}]"
      ]
     },
     "execution_count": 46,
     "metadata": {},
     "output_type": "execute_result"
    }
   ],
   "source": [
    "list(\n",
    "    users_collection\n",
    "    .find()\n",
    "    .sort([('name', 1), ('age', -1)])\n",
    ")\n"
   ]
  },
  {
   "cell_type": "code",
   "execution_count": null,
   "id": "1a878899-22f9-4dfb-a158-272dca577471",
   "metadata": {},
   "outputs": [],
   "source": [
    ".sort(\"_id\", -1)"
   ]
  },
  {
   "cell_type": "code",
   "execution_count": 54,
   "id": "c6763c82-5cda-4e8a-9649-62a70ddad32b",
   "metadata": {},
   "outputs": [
    {
     "data": {
      "text/plain": [
       "[{'_id': ObjectId('64d4dda91dc02c2bdc22fe39'), 'name': 'sam', 'age': 35},\n",
       " {'_id': ObjectId('64d4ddbe1dc02c2bdc22fe3b'), 'name': 'matt', 'age': 40},\n",
       " {'_id': ObjectId('64d4dda91dc02c2bdc22fe38'), 'name': 'luke', 'age': 30}]"
      ]
     },
     "execution_count": 54,
     "metadata": {},
     "output_type": "execute_result"
    }
   ],
   "source": [
    "list(\n",
    "    users_collection\n",
    "    .find()\n",
    "    .sort([(\"name\", -1), (\"age\", -1)])\n",
    ")\n"
   ]
  },
  {
   "cell_type": "code",
   "execution_count": null,
   "id": "86e19c81-2e18-4b89-88d4-a97a7b0ba82b",
   "metadata": {},
   "outputs": [],
   "source": []
  }
 ],
 "metadata": {
  "kernelspec": {
   "display_name": "Python 3 (ipykernel)",
   "language": "python",
   "name": "python3"
  },
  "language_info": {
   "codemirror_mode": {
    "name": "ipython",
    "version": 3
   },
   "file_extension": ".py",
   "mimetype": "text/x-python",
   "name": "python",
   "nbconvert_exporter": "python",
   "pygments_lexer": "ipython3",
   "version": "3.9.17"
  }
 },
 "nbformat": 4,
 "nbformat_minor": 5
}
